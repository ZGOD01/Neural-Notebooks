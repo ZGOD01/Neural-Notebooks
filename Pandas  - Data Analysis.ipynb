{
 "cells": [
  {
   "cell_type": "code",
   "execution_count": 6,
   "id": "f6665b03-2b2b-4221-8604-c6037f2b6f0e",
   "metadata": {},
   "outputs": [],
   "source": [
    "import pandas as pd"
   ]
  },
  {
   "cell_type": "code",
   "execution_count": 10,
   "id": "7ba86e5a-c5a0-4953-a735-3073ba266f08",
   "metadata": {},
   "outputs": [],
   "source": [
    "data = pd.read_csv(\"googleplaystore.csv\").dropna()"
   ]
  },
  {
   "cell_type": "code",
   "execution_count": 87,
   "id": "b5e023f9-53c0-431b-bf36-a6dda3bb21b2",
   "metadata": {
    "scrolled": true
   },
   "outputs": [
    {
     "data": {
      "text/html": [
       "<div>\n",
       "<style scoped>\n",
       "    .dataframe tbody tr th:only-of-type {\n",
       "        vertical-align: middle;\n",
       "    }\n",
       "\n",
       "    .dataframe tbody tr th {\n",
       "        vertical-align: top;\n",
       "    }\n",
       "\n",
       "    .dataframe thead th {\n",
       "        text-align: right;\n",
       "    }\n",
       "</style>\n",
       "<table border=\"1\" class=\"dataframe\">\n",
       "  <thead>\n",
       "    <tr style=\"text-align: right;\">\n",
       "      <th></th>\n",
       "      <th>App</th>\n",
       "      <th>Category</th>\n",
       "      <th>Rating</th>\n",
       "      <th>Reviews</th>\n",
       "      <th>Size</th>\n",
       "      <th>Installs</th>\n",
       "      <th>Type</th>\n",
       "      <th>Price</th>\n",
       "      <th>Content Rating</th>\n",
       "      <th>Genres</th>\n",
       "      <th>Last Updated</th>\n",
       "      <th>Current Ver</th>\n",
       "      <th>Android Ver</th>\n",
       "    </tr>\n",
       "  </thead>\n",
       "  <tbody>\n",
       "    <tr>\n",
       "      <th>0</th>\n",
       "      <td>Photo Editor &amp; Candy Camera &amp; Grid &amp; ScrapBook</td>\n",
       "      <td>ART_AND_DESIGN</td>\n",
       "      <td>4.1</td>\n",
       "      <td>159</td>\n",
       "      <td>19M</td>\n",
       "      <td>10,000+</td>\n",
       "      <td>Free</td>\n",
       "      <td>0</td>\n",
       "      <td>Everyone</td>\n",
       "      <td>Art &amp; Design</td>\n",
       "      <td>January 7, 2018</td>\n",
       "      <td>1.0.0</td>\n",
       "      <td>4.0.3 and up</td>\n",
       "    </tr>\n",
       "    <tr>\n",
       "      <th>1</th>\n",
       "      <td>Coloring book moana</td>\n",
       "      <td>ART_AND_DESIGN</td>\n",
       "      <td>3.9</td>\n",
       "      <td>967</td>\n",
       "      <td>14M</td>\n",
       "      <td>500,000+</td>\n",
       "      <td>Free</td>\n",
       "      <td>0</td>\n",
       "      <td>Everyone</td>\n",
       "      <td>Art &amp; Design;Pretend Play</td>\n",
       "      <td>January 15, 2018</td>\n",
       "      <td>2.0.0</td>\n",
       "      <td>4.0.3 and up</td>\n",
       "    </tr>\n",
       "    <tr>\n",
       "      <th>2</th>\n",
       "      <td>U Launcher Lite – FREE Live Cool Themes, Hide ...</td>\n",
       "      <td>ART_AND_DESIGN</td>\n",
       "      <td>4.7</td>\n",
       "      <td>87510</td>\n",
       "      <td>8.7M</td>\n",
       "      <td>5,000,000+</td>\n",
       "      <td>Free</td>\n",
       "      <td>0</td>\n",
       "      <td>Everyone</td>\n",
       "      <td>Art &amp; Design</td>\n",
       "      <td>August 1, 2018</td>\n",
       "      <td>1.2.4</td>\n",
       "      <td>4.0.3 and up</td>\n",
       "    </tr>\n",
       "    <tr>\n",
       "      <th>3</th>\n",
       "      <td>Sketch - Draw &amp; Paint</td>\n",
       "      <td>ART_AND_DESIGN</td>\n",
       "      <td>4.5</td>\n",
       "      <td>215644</td>\n",
       "      <td>25M</td>\n",
       "      <td>50,000,000+</td>\n",
       "      <td>Free</td>\n",
       "      <td>0</td>\n",
       "      <td>Teen</td>\n",
       "      <td>Art &amp; Design</td>\n",
       "      <td>June 8, 2018</td>\n",
       "      <td>Varies with device</td>\n",
       "      <td>4.2 and up</td>\n",
       "    </tr>\n",
       "    <tr>\n",
       "      <th>4</th>\n",
       "      <td>Pixel Draw - Number Art Coloring Book</td>\n",
       "      <td>ART_AND_DESIGN</td>\n",
       "      <td>4.3</td>\n",
       "      <td>967</td>\n",
       "      <td>2.8M</td>\n",
       "      <td>100,000+</td>\n",
       "      <td>Free</td>\n",
       "      <td>0</td>\n",
       "      <td>Everyone</td>\n",
       "      <td>Art &amp; Design;Creativity</td>\n",
       "      <td>June 20, 2018</td>\n",
       "      <td>1.1</td>\n",
       "      <td>4.4 and up</td>\n",
       "    </tr>\n",
       "  </tbody>\n",
       "</table>\n",
       "</div>"
      ],
      "text/plain": [
       "                                                 App        Category  Rating  \\\n",
       "0     Photo Editor & Candy Camera & Grid & ScrapBook  ART_AND_DESIGN     4.1   \n",
       "1                                Coloring book moana  ART_AND_DESIGN     3.9   \n",
       "2  U Launcher Lite – FREE Live Cool Themes, Hide ...  ART_AND_DESIGN     4.7   \n",
       "3                              Sketch - Draw & Paint  ART_AND_DESIGN     4.5   \n",
       "4              Pixel Draw - Number Art Coloring Book  ART_AND_DESIGN     4.3   \n",
       "\n",
       "  Reviews  Size     Installs  Type Price Content Rating  \\\n",
       "0     159   19M      10,000+  Free     0       Everyone   \n",
       "1     967   14M     500,000+  Free     0       Everyone   \n",
       "2   87510  8.7M   5,000,000+  Free     0       Everyone   \n",
       "3  215644   25M  50,000,000+  Free     0           Teen   \n",
       "4     967  2.8M     100,000+  Free     0       Everyone   \n",
       "\n",
       "                      Genres      Last Updated         Current Ver  \\\n",
       "0               Art & Design   January 7, 2018               1.0.0   \n",
       "1  Art & Design;Pretend Play  January 15, 2018               2.0.0   \n",
       "2               Art & Design    August 1, 2018               1.2.4   \n",
       "3               Art & Design      June 8, 2018  Varies with device   \n",
       "4    Art & Design;Creativity     June 20, 2018                 1.1   \n",
       "\n",
       "    Android Ver  \n",
       "0  4.0.3 and up  \n",
       "1  4.0.3 and up  \n",
       "2  4.0.3 and up  \n",
       "3    4.2 and up  \n",
       "4    4.4 and up  "
      ]
     },
     "execution_count": 87,
     "metadata": {},
     "output_type": "execute_result"
    }
   ],
   "source": [
    "data.head()"
   ]
  },
  {
   "cell_type": "code",
   "execution_count": null,
   "id": "e41038a8-ec23-4dbf-bf65-78f5956a6615",
   "metadata": {},
   "outputs": [],
   "source": []
  },
  {
   "cell_type": "markdown",
   "id": "643e24de-35c0-4c30-b918-fd1a5bbc364d",
   "metadata": {},
   "source": [
    "# Rating "
   ]
  },
  {
   "cell_type": "markdown",
   "id": "25e8ceb9-4c33-440a-89f3-f2e4ba2186f7",
   "metadata": {},
   "source": [
    "## Finding the Average Rating "
   ]
  },
  {
   "cell_type": "code",
   "execution_count": 17,
   "id": "e68ab278-8883-421a-af30-791a3c2f6cc7",
   "metadata": {},
   "outputs": [
    {
     "data": {
      "text/plain": [
       "0        4.1\n",
       "1        3.9\n",
       "2        4.7\n",
       "3        4.5\n",
       "4        4.3\n",
       "        ... \n",
       "10834    4.0\n",
       "10836    4.5\n",
       "10837    5.0\n",
       "10839    4.5\n",
       "10840    4.5\n",
       "Name: Rating, Length: 9360, dtype: float64"
      ]
     },
     "execution_count": 17,
     "metadata": {},
     "output_type": "execute_result"
    }
   ],
   "source": [
    "data['Rating']"
   ]
  },
  {
   "cell_type": "code",
   "execution_count": 19,
   "id": "61366367-08e1-49f1-8590-d41a1d902eed",
   "metadata": {},
   "outputs": [
    {
     "data": {
      "text/plain": [
       "39235.6"
      ]
     },
     "execution_count": 19,
     "metadata": {},
     "output_type": "execute_result"
    }
   ],
   "source": [
    "sum(data['Rating'])"
   ]
  },
  {
   "cell_type": "code",
   "execution_count": 21,
   "id": "26509820-23e5-4973-9ca0-1ddf02213714",
   "metadata": {},
   "outputs": [
    {
     "data": {
      "text/plain": [
       "4.191837606837606"
      ]
     },
     "execution_count": 21,
     "metadata": {},
     "output_type": "execute_result"
    }
   ],
   "source": [
    "sum(data['Rating'])/len(data['Rating'])"
   ]
  },
  {
   "cell_type": "code",
   "execution_count": 23,
   "id": "c779e12d-9232-4708-a8c8-32edfc0d7adb",
   "metadata": {},
   "outputs": [
    {
     "data": {
      "text/plain": [
       "'4.191837606837606'"
      ]
     },
     "execution_count": 23,
     "metadata": {},
     "output_type": "execute_result"
    }
   ],
   "source": [
    "str(sum(data['Rating'])/len(data['Rating']))"
   ]
  },
  {
   "cell_type": "code",
   "execution_count": 27,
   "id": "aaac2f91-7b7c-4ebd-a529-ebce0df4e344",
   "metadata": {},
   "outputs": [
    {
     "data": {
      "text/plain": [
       "'4.19'"
      ]
     },
     "execution_count": 27,
     "metadata": {},
     "output_type": "execute_result"
    }
   ],
   "source": [
    "str(sum(data['Rating'])/len(data['Rating']))[:4]"
   ]
  },
  {
   "cell_type": "code",
   "execution_count": 31,
   "id": "44eb1efd-5da4-4664-881a-2e86861589ab",
   "metadata": {},
   "outputs": [],
   "source": [
    "average = float(str(sum(data['Rating'])/len(data['Rating']))[:4])"
   ]
  },
  {
   "cell_type": "code",
   "execution_count": 37,
   "id": "44945fb9-7151-45f0-a85d-2e5575881933",
   "metadata": {},
   "outputs": [
    {
     "name": "stdout",
     "output_type": "stream",
     "text": [
      "Average rating of this apps : 4.19\n"
     ]
    }
   ],
   "source": [
    "print(\"Average rating of this apps :\" , average) "
   ]
  },
  {
   "cell_type": "markdown",
   "id": "f0a54a7e-bb9f-4dd6-bbae-2033458aebc9",
   "metadata": {},
   "source": [
    "## How many app are there with rating 5 ?"
   ]
  },
  {
   "cell_type": "code",
   "execution_count": 47,
   "id": "aaee8e68-1491-4e68-a96e-58bb1521b8e6",
   "metadata": {},
   "outputs": [
    {
     "name": "stdout",
     "output_type": "stream",
     "text": [
      "There are 274 applicatiion with rating 5.0\n"
     ]
    }
   ],
   "source": [
    "c = 0\n",
    "\n",
    "for i in data['Rating']:\n",
    "    if(i == 5.0):\n",
    "        c += 1\n",
    "print(\"There are\",c , \"applicatiion with rating 5.0\")"
   ]
  },
  {
   "cell_type": "markdown",
   "id": "45726d73-8b60-4975-9f62-33f645819a47",
   "metadata": {},
   "source": [
    "## How many apps are there with rating between 4 - 4.5 ?"
   ]
  },
  {
   "cell_type": "code",
   "execution_count": 52,
   "id": "e456a5df-4491-4f31-aece-63f995fee768",
   "metadata": {},
   "outputs": [
    {
     "name": "stdout",
     "output_type": "stream",
     "text": [
      "There are 5446 apps with rating between 4 - 4.5\n"
     ]
    }
   ],
   "source": [
    "c = 0 \n",
    "\n",
    "for i in data['Rating']:\n",
    "    if( i >= 4.0 and i <= 4.5) :\n",
    "        c += 1\n",
    "\n",
    "print(\"There are\", c , \"apps with rating between 4 - 4.5\")"
   ]
  },
  {
   "cell_type": "markdown",
   "id": "b609fb45-906c-472a-bcb0-03a11a0a763d",
   "metadata": {},
   "source": [
    "# Reviews"
   ]
  },
  {
   "cell_type": "markdown",
   "id": "c2c2f3ee-ed2b-4bb6-8727-72a654cdd769",
   "metadata": {},
   "source": [
    "## Average App Reviews"
   ]
  },
  {
   "cell_type": "code",
   "execution_count": 55,
   "id": "bb37c545-95d2-4bee-8fa4-0fb2cd6602d5",
   "metadata": {},
   "outputs": [
    {
     "name": "stdout",
     "output_type": "stream",
     "text": [
      "4814565961\n"
     ]
    }
   ],
   "source": [
    "s = 0\n",
    "\n",
    "for i in data['Reviews']:\n",
    "    s += int(i)\n",
    "\n",
    "print(s)"
   ]
  },
  {
   "cell_type": "code",
   "execution_count": 57,
   "id": "828a78f3-d0ea-4b6a-a532-a9c98c197fc0",
   "metadata": {},
   "outputs": [
    {
     "data": {
      "text/plain": [
       "514376.7052350427"
      ]
     },
     "execution_count": 57,
     "metadata": {},
     "output_type": "execute_result"
    }
   ],
   "source": [
    "s/len(data['Reviews'])"
   ]
  },
  {
   "cell_type": "code",
   "execution_count": 61,
   "id": "dcd7f5ce-b684-45c5-a4b6-99e98ebfe1ab",
   "metadata": {},
   "outputs": [],
   "source": [
    "s =int(s/len(data['Reviews']))"
   ]
  },
  {
   "cell_type": "code",
   "execution_count": 65,
   "id": "231037ff-a514-43e1-b81b-358cc76523b9",
   "metadata": {},
   "outputs": [
    {
     "name": "stdout",
     "output_type": "stream",
     "text": [
      "The Average App Reviews are : 514376\n"
     ]
    }
   ],
   "source": [
    "print(\"The Average App Reviews are :\" , s)"
   ]
  },
  {
   "cell_type": "markdown",
   "id": "504119e9-64df-40ac-ba4d-77d9cf3d2d93",
   "metadata": {},
   "source": [
    "# Category "
   ]
  },
  {
   "cell_type": "markdown",
   "id": "548d3c6d-f6bf-4ae3-8d74-4c2e8a6d138f",
   "metadata": {},
   "source": [
    "## Total Number of Categories"
   ]
  },
  {
   "cell_type": "code",
   "execution_count": 68,
   "id": "05cc124a-8f05-434b-8afa-a8e5099591b7",
   "metadata": {
    "scrolled": true
   },
   "outputs": [
    {
     "data": {
      "text/plain": [
       "0             ART_AND_DESIGN\n",
       "1             ART_AND_DESIGN\n",
       "2             ART_AND_DESIGN\n",
       "3             ART_AND_DESIGN\n",
       "4             ART_AND_DESIGN\n",
       "                ...         \n",
       "10834                 FAMILY\n",
       "10836                 FAMILY\n",
       "10837                 FAMILY\n",
       "10839    BOOKS_AND_REFERENCE\n",
       "10840              LIFESTYLE\n",
       "Name: Category, Length: 9360, dtype: object"
      ]
     },
     "execution_count": 68,
     "metadata": {},
     "output_type": "execute_result"
    }
   ],
   "source": [
    "data['Category']"
   ]
  },
  {
   "cell_type": "code",
   "execution_count": 70,
   "id": "8a603941-3e8f-48c3-b9fe-8385a37427c9",
   "metadata": {},
   "outputs": [
    {
     "data": {
      "text/plain": [
       "array(['ART_AND_DESIGN', 'AUTO_AND_VEHICLES', 'BEAUTY',\n",
       "       'BOOKS_AND_REFERENCE', 'BUSINESS', 'COMICS', 'COMMUNICATION',\n",
       "       'DATING', 'EDUCATION', 'ENTERTAINMENT', 'EVENTS', 'FINANCE',\n",
       "       'FOOD_AND_DRINK', 'HEALTH_AND_FITNESS', 'HOUSE_AND_HOME',\n",
       "       'LIBRARIES_AND_DEMO', 'LIFESTYLE', 'GAME', 'FAMILY', 'MEDICAL',\n",
       "       'SOCIAL', 'SHOPPING', 'PHOTOGRAPHY', 'SPORTS', 'TRAVEL_AND_LOCAL',\n",
       "       'TOOLS', 'PERSONALIZATION', 'PRODUCTIVITY', 'PARENTING', 'WEATHER',\n",
       "       'VIDEO_PLAYERS', 'NEWS_AND_MAGAZINES', 'MAPS_AND_NAVIGATION'],\n",
       "      dtype=object)"
      ]
     },
     "execution_count": 70,
     "metadata": {},
     "output_type": "execute_result"
    }
   ],
   "source": [
    "data['Category'].unique()"
   ]
  },
  {
   "cell_type": "code",
   "execution_count": 75,
   "id": "9359cd87-9a68-48fa-ba6c-94a131de5c56",
   "metadata": {},
   "outputs": [
    {
     "name": "stdout",
     "output_type": "stream",
     "text": [
      "There are total 33 categories\n"
     ]
    }
   ],
   "source": [
    "c = 0 \n",
    "\n",
    "for i in data['Category'].unique() : \n",
    "    c += 1\n",
    "\n",
    "print(\"There are total\" , c ,\"categories\" )"
   ]
  },
  {
   "cell_type": "markdown",
   "id": "52f26196-cd71-4be0-ac71-1a7208df03a7",
   "metadata": {},
   "source": [
    "## Total Apps in Art & Design"
   ]
  },
  {
   "cell_type": "code",
   "execution_count": 79,
   "id": "f7f08284-8ef4-4524-8758-bf4599a14b8d",
   "metadata": {},
   "outputs": [
    {
     "name": "stdout",
     "output_type": "stream",
     "text": [
      "There are total 61 application in ART_AND_DESIGN\n"
     ]
    }
   ],
   "source": [
    "c = 0 \n",
    "\n",
    "for i in data['Category']: \n",
    "    if( i == \"ART_AND_DESIGN\"):\n",
    "        c += 1\n",
    "\n",
    "print(\"There are total\" , c ,\"application in ART_AND_DESIGN\" )"
   ]
  },
  {
   "cell_type": "markdown",
   "id": "b0656154-018a-4f45-af31-026ee5bcce7d",
   "metadata": {},
   "source": [
    "# Type"
   ]
  },
  {
   "cell_type": "markdown",
   "id": "4fcdc637-f490-4546-a4d4-f1c0c07d16e2",
   "metadata": {},
   "source": [
    "# Total Number of Paid and Free Apps "
   ]
  },
  {
   "cell_type": "code",
   "execution_count": 91,
   "id": "f25c2526-c718-46a4-8525-ab99ea1c97a4",
   "metadata": {},
   "outputs": [
    {
     "data": {
      "text/plain": [
       "0        Free\n",
       "1        Free\n",
       "2        Free\n",
       "3        Free\n",
       "4        Free\n",
       "         ... \n",
       "10834    Free\n",
       "10836    Free\n",
       "10837    Free\n",
       "10839    Free\n",
       "10840    Free\n",
       "Name: Type, Length: 9360, dtype: object"
      ]
     },
     "execution_count": 91,
     "metadata": {},
     "output_type": "execute_result"
    }
   ],
   "source": [
    "data['Type']"
   ]
  },
  {
   "cell_type": "code",
   "execution_count": 93,
   "id": "656f76a8-3afb-4fe8-891f-3eb9bf3e1e55",
   "metadata": {},
   "outputs": [
    {
     "data": {
      "text/plain": [
       "array(['Free', 'Paid'], dtype=object)"
      ]
     },
     "execution_count": 93,
     "metadata": {},
     "output_type": "execute_result"
    }
   ],
   "source": [
    "data['Type'].unique()"
   ]
  },
  {
   "cell_type": "code",
   "execution_count": 99,
   "id": "0005fc38-4bb8-45df-b293-057e24bbcb3f",
   "metadata": {},
   "outputs": [
    {
     "name": "stdout",
     "output_type": "stream",
     "text": [
      "There are  8715 Free and 645 Paid Applications\n"
     ]
    }
   ],
   "source": [
    "f = 0\n",
    "for i in data['Type']:\n",
    "    if(i == 'Free'):\n",
    "        f += 1\n",
    "print(\"There are \", f , \"Free\", end = \" \")\n",
    "\n",
    "p = 0\n",
    "for i in data['Type']:\n",
    "    if(i == 'Paid'):\n",
    "        p += 1\n",
    "print(\"and\", p , \"Paid Applications\")"
   ]
  },
  {
   "cell_type": "markdown",
   "id": "41e395a1-68ab-410e-8cc8-1116de2b433f",
   "metadata": {},
   "source": [
    "## Percentage of free apps in the Datasets"
   ]
  },
  {
   "attachments": {
    "39843ae4-9b60-4d3d-b72f-c113ca4c3a9b.png": {
     "image/png": "[encoded data removed]"
    }
   },
   "cell_type": "markdown",
   "id": "31877203-67e5-4b9d-a9d4-f844d89963cb",
   "metadata": {},
   "source": [
    "![image.png](attachment:39843ae4-9b60-4d3d-b72f-c113ca4c3a9b.png)"
   ]
  },
  {
   "cell_type": "code",
   "execution_count": 102,
   "id": "e425a947-4dff-463d-a3fc-74a63e3e800a",
   "metadata": {},
   "outputs": [
    {
     "data": {
      "text/plain": [
       "9360"
      ]
     },
     "execution_count": 102,
     "metadata": {},
     "output_type": "execute_result"
    }
   ],
   "source": [
    "f + p"
   ]
  },
  {
   "cell_type": "code",
   "execution_count": 145,
   "id": "57e124b6-9e5b-4e39-94ac-9f36845a20b5",
   "metadata": {},
   "outputs": [
    {
     "data": {
      "text/plain": [
       "0.9310897435897436"
      ]
     },
     "execution_count": 145,
     "metadata": {},
     "output_type": "execute_result"
    }
   ],
   "source": [
    "f / (f + p)"
   ]
  },
  {
   "cell_type": "code",
   "execution_count": 133,
   "id": "801528ad-d0ea-4fea-a084-3e24986aceb9",
   "metadata": {},
   "outputs": [],
   "source": [
    "apps = int(f / (f + p) *100)"
   ]
  },
  {
   "cell_type": "code",
   "execution_count": 135,
   "id": "b8c20920-71d5-4a55-96c1-efe73bc7899d",
   "metadata": {},
   "outputs": [
    {
     "name": "stdout",
     "output_type": "stream",
     "text": [
      "93 % applications are free\n"
     ]
    }
   ],
   "source": [
    "print(apps, \"% applications are free\")"
   ]
  },
  {
   "cell_type": "markdown",
   "id": "903d5726-c278-4601-bd19-78110aeff166",
   "metadata": {},
   "source": [
    "## Content-Rating"
   ]
  },
  {
   "cell_type": "markdown",
   "id": "37c113f4-06f3-4ae6-bbbb-d32fdd4f8643",
   "metadata": {},
   "source": [
    "## Name all the content-rating"
   ]
  },
  {
   "cell_type": "code",
   "execution_count": 122,
   "id": "87c21c1e-8022-4be2-a3d7-35ca99d20e3b",
   "metadata": {},
   "outputs": [
    {
     "data": {
      "text/plain": [
       "0          Everyone\n",
       "1          Everyone\n",
       "2          Everyone\n",
       "3              Teen\n",
       "4          Everyone\n",
       "            ...    \n",
       "10834      Everyone\n",
       "10836      Everyone\n",
       "10837      Everyone\n",
       "10839    Mature 17+\n",
       "10840      Everyone\n",
       "Name: Content Rating, Length: 9360, dtype: object"
      ]
     },
     "execution_count": 122,
     "metadata": {},
     "output_type": "execute_result"
    }
   ],
   "source": [
    "data['Content Rating']"
   ]
  },
  {
   "cell_type": "code",
   "execution_count": 124,
   "id": "2e87907d-35c9-4a46-9ac6-fc7fa8c17540",
   "metadata": {},
   "outputs": [
    {
     "data": {
      "text/plain": [
       "array(['Everyone', 'Teen', 'Everyone 10+', 'Mature 17+',\n",
       "       'Adults only 18+', 'Unrated'], dtype=object)"
      ]
     },
     "execution_count": 124,
     "metadata": {},
     "output_type": "execute_result"
    }
   ],
   "source": [
    "data['Content Rating'].unique()"
   ]
  },
  {
   "cell_type": "code",
   "execution_count": 126,
   "id": "46c62584-d3ea-4a9d-b87b-777f0ff96c15",
   "metadata": {},
   "outputs": [
    {
     "name": "stdout",
     "output_type": "stream",
     "text": [
      "Everyone\n",
      "Teen\n",
      "Everyone 10+\n",
      "Mature 17+\n",
      "Adults only 18+\n",
      "Unrated\n"
     ]
    }
   ],
   "source": [
    "for i in data['Content Rating'].unique() :\n",
    "    print(i)"
   ]
  },
  {
   "cell_type": "code",
   "execution_count": null,
   "id": "34e0cf1a-81c4-48d2-8b56-6dbf4e2cdd5c",
   "metadata": {},
   "outputs": [],
   "source": []
  }
 ],
 "metadata": {
  "kernelspec": {
   "display_name": "Python [conda env:base] *",
   "language": "python",
   "name": "conda-base-py"
  },
  "language_info": {
   "codemirror_mode": {
    "name": "ipython",
    "version": 3
   },
   "file_extension": ".py",
   "mimetype": "text/x-python",
   "name": "python",
   "nbconvert_exporter": "python",
   "pygments_lexer": "ipython3",
   "version": "3.12.7"
  }
 },
 "nbformat": 4,
 "nbformat_minor": 5
}
