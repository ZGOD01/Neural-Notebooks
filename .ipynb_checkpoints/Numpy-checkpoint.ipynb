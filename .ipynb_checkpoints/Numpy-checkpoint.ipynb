{
 "cells": [
  {
   "cell_type": "markdown",
   "id": "35984f49-421b-490d-9fff-d3e5588ec1c6",
   "metadata": {},
   "source": [
    "# Numpy"
   ]
  },
  {
   "cell_type": "code",
   "execution_count": 3,
   "id": "eabab138-5bbb-436e-a6c9-33a80e59bbde",
   "metadata": {},
   "outputs": [],
   "source": [
    "import numpy as np"
   ]
  },
  {
   "cell_type": "markdown",
   "id": "63fc8ab9-80f3-4c94-8b9d-84bf768f255d",
   "metadata": {},
   "source": [
    "### 1. Coverting a List to Array"
   ]
  },
  {
   "cell_type": "code",
   "execution_count": 9,
   "id": "aad1b3f8-d538-4088-bb5a-314168c05d7f",
   "metadata": {},
   "outputs": [
    {
     "name": "stdout",
     "output_type": "stream",
     "text": [
      "<class 'list'>\n",
      "<class 'numpy.ndarray'>\n"
     ]
    }
   ],
   "source": [
    "lst = [1, 2, 3, 4]\n",
    "\n",
    "print(type(lst))\n",
    "\n",
    "arr = np.array(lst)\n",
    "print(type(arr))"
   ]
  },
  {
   "cell_type": "markdown",
   "id": "25463bf3-7131-4757-b88a-e898fe787a1c",
   "metadata": {},
   "source": [
    "### 2. Arrange function"
   ]
  },
  {
   "cell_type": "code",
   "execution_count": 20,
   "id": "cc8ce3eb-c3ca-46f2-b044-31429318ff92",
   "metadata": {},
   "outputs": [
    {
     "data": {
      "text/plain": [
       "array([1, 2, 3, 4, 5, 6, 7, 8, 9])"
      ]
     },
     "execution_count": 20,
     "metadata": {},
     "output_type": "execute_result"
    }
   ],
   "source": [
    "np.arange(1 , 10)"
   ]
  },
  {
   "cell_type": "markdown",
   "id": "e2d47ba4-001a-456c-aac8-5654c1f0f772",
   "metadata": {},
   "source": [
    "### 3. Multidimensional Array"
   ]
  },
  {
   "cell_type": "code",
   "execution_count": 23,
   "id": "bbc4a74d-35e8-4ce5-b854-07f3309f11ba",
   "metadata": {},
   "outputs": [
    {
     "data": {
      "text/plain": [
       "array([[1, 2, 3],\n",
       "       [4, 5, 6],\n",
       "       [7, 8, 9]])"
      ]
     },
     "execution_count": 23,
     "metadata": {},
     "output_type": "execute_result"
    }
   ],
   "source": [
    "arr = np.array([[1,2,3],[4,5,6],[7,8,9]])\n",
    "\n",
    "arr"
   ]
  },
  {
   "cell_type": "markdown",
   "id": "0d3f5632-dd54-47d0-b311-4bc4ea2bb3d7",
   "metadata": {},
   "source": [
    "### 4. Size Function"
   ]
  },
  {
   "cell_type": "markdown",
   "id": "f19637b8-e307-4f3d-be63-b0ab752e27b4",
   "metadata": {},
   "source": [
    "`In Python, numpy.size() function count the number of elements along a given axis (0 - Rows | 1 - Columns)`"
   ]
  },
  {
   "cell_type": "code",
   "execution_count": 29,
   "id": "529b4a38-86c6-468b-b0c0-e2122921ec18",
   "metadata": {},
   "outputs": [
    {
     "name": "stdout",
     "output_type": "stream",
     "text": [
      "Total :  12\n",
      "Rows  :  4\n",
      "Cols  :  3\n"
     ]
    },
    {
     "data": {
      "text/plain": [
       "array([[1, 2, 3],\n",
       "       [4, 5, 6],\n",
       "       [7, 8, 9],\n",
       "       [1, 2, 3]])"
      ]
     },
     "execution_count": 29,
     "metadata": {},
     "output_type": "execute_result"
    }
   ],
   "source": [
    "arr = np.array([[1,2,3],[4,5,6],[7,8,9],[1,2,3]])\n",
    "\n",
    "print('Total : ', arr.size)\n",
    "print('Rows  : ', np.size(arr,0))\n",
    "print('Cols  : ', np.size(arr,1))\n",
    "\n",
    "arr"
   ]
  },
  {
   "cell_type": "markdown",
   "id": "ea4165da-3aa0-4add-86f6-9ade04498891",
   "metadata": {},
   "source": [
    "### 5. Shape Function"
   ]
  },
  {
   "cell_type": "code",
   "execution_count": 36,
   "id": "bc19d1d3-b605-4f25-8927-83185f3d8d5d",
   "metadata": {},
   "outputs": [
    {
     "name": "stdout",
     "output_type": "stream",
     "text": [
      "(4, 3)\n",
      "(4, 3)\n"
     ]
    }
   ],
   "source": [
    "arr = np.array([[1,2,3],[4,5,6],[7,8,9],[1,2,3]])\n",
    "\n",
    "print((np.size(arr,0) , np.size(arr,1)))\n",
    "\n",
    "print(arr.shape)"
   ]
  },
  {
   "cell_type": "markdown",
   "id": "2c50f5e7-e247-43c1-8a76-5787d433194e",
   "metadata": {},
   "source": [
    "### 6. Dtype Function"
   ]
  },
  {
   "cell_type": "code",
   "execution_count": 49,
   "id": "cc039c80-ded6-4cd9-a063-87703bfd95a9",
   "metadata": {},
   "outputs": [
    {
     "name": "stdout",
     "output_type": "stream",
     "text": [
      "int32\n",
      "float64\n"
     ]
    }
   ],
   "source": [
    "arr1 = np.array([1,2,3,1,12,3])\n",
    "arr2 = np.array([1.2,3.3,12.11,3])\n",
    "\n",
    "print(arr1.dtype)\n",
    "print(arr2.dtype)"
   ]
  },
  {
   "cell_type": "markdown",
   "id": "999e5d47-4e6b-4c6e-a479-6d2b5b1b4ca1",
   "metadata": {},
   "source": [
    "### 7. Ndim Function"
   ]
  },
  {
   "cell_type": "code",
   "execution_count": 58,
   "id": "151f1891-834f-4e31-9730-5df5da22e32f",
   "metadata": {},
   "outputs": [
    {
     "name": "stdout",
     "output_type": "stream",
     "text": [
      "1\n",
      "2\n"
     ]
    }
   ],
   "source": [
    "arr1 = np.array([1,2,3,1,12,3])\n",
    "arr2 = np.array([[1,2,3,],[4,5,6]])\n",
    "\n",
    "print(arr1.ndim)\n",
    "print(arr2.ndim)"
   ]
  },
  {
   "cell_type": "markdown",
   "id": "718d4f27-ee6e-4a10-a827-5b0bf846231d",
   "metadata": {},
   "source": [
    "### 8. Zeros  Function"
   ]
  },
  {
   "cell_type": "code",
   "execution_count": 61,
   "id": "7ba98283-71ee-4b40-961b-bbb10acb3dd0",
   "metadata": {},
   "outputs": [
    {
     "name": "stdout",
     "output_type": "stream",
     "text": [
      "[[0 0 0 0 0]\n",
      " [0 0 0 0 0]\n",
      " [0 0 0 0 0]]\n"
     ]
    }
   ],
   "source": [
    "arr = np.zeros(shape = (3,5), dtype = int)\n",
    "\n",
    "print(arr)"
   ]
  },
  {
   "cell_type": "markdown",
   "id": "95188d9c-8176-4154-b2c1-3f461b9217d4",
   "metadata": {},
   "source": [
    "### Ones  Function"
   ]
  },
  {
   "cell_type": "code",
   "execution_count": 64,
   "id": "b16f4522-af55-4712-aa5c-6a2fdb15463d",
   "metadata": {},
   "outputs": [
    {
     "name": "stdout",
     "output_type": "stream",
     "text": [
      "[[1 1 1 1 1]\n",
      " [1 1 1 1 1]\n",
      " [1 1 1 1 1]]\n"
     ]
    }
   ],
   "source": [
    "arr = np.ones(shape = (3,5), dtype = int)\n",
    "\n",
    "print(arr)"
   ]
  },
  {
   "cell_type": "markdown",
   "id": "47ba9580-e50f-46f6-863e-2b4d426276a3",
   "metadata": {},
   "source": [
    "### 9. Eye  Function"
   ]
  },
  {
   "cell_type": "code",
   "execution_count": 67,
   "id": "3af90a51-2d1e-435d-9025-4ef661da58a9",
   "metadata": {},
   "outputs": [
    {
     "data": {
      "text/plain": [
       "array([[1, 0, 0, 0],\n",
       "       [0, 1, 0, 0],\n",
       "       [0, 0, 1, 0],\n",
       "       [0, 0, 0, 1]])"
      ]
     },
     "execution_count": 67,
     "metadata": {},
     "output_type": "execute_result"
    }
   ],
   "source": [
    "np.eye(4, dtype = int)"
   ]
  },
  {
   "cell_type": "markdown",
   "id": "0d9776e2-10df-445a-9bd1-6ec1ada03288",
   "metadata": {},
   "source": [
    "### 10. Empty  Function"
   ]
  },
  {
   "cell_type": "code",
   "execution_count": 72,
   "id": "5252ef18-daaa-427f-a145-0fd919e7afa8",
   "metadata": {},
   "outputs": [
    {
     "data": {
      "text/plain": [
       "array([[6.23042070e-307, 7.56587584e-307, 1.37961302e-306,\n",
       "        1.05699242e-307, 8.01097889e-307],\n",
       "       [1.78020169e-306, 7.56601165e-307, 1.02359984e-306,\n",
       "        8.90092016e-307, 1.02361342e-306],\n",
       "       [6.89804133e-307, 8.90104239e-307, 8.90098127e-307,\n",
       "        8.90111708e-307, 6.23054633e-307],\n",
       "       [8.90111708e-307, 6.89806849e-307, 8.90104239e-307,\n",
       "        1.42417221e-306, 1.95820216e-306],\n",
       "       [1.24611741e-306, 1.33511562e-306, 1.11261570e-306,\n",
       "        1.42410974e-306, 5.97819431e-322]])"
      ]
     },
     "execution_count": 72,
     "metadata": {},
     "output_type": "execute_result"
    }
   ],
   "source": [
    "np.empty(shape = (5,5))"
   ]
  },
  {
   "cell_type": "markdown",
   "id": "b62ba245-cd88-4b74-b316-79c0634276ab",
   "metadata": {},
   "source": [
    "### 11. Random  Functions"
   ]
  },
  {
   "cell_type": "markdown",
   "id": "097b274c-76d3-4518-b291-d10338b658de",
   "metadata": {},
   "source": [
    "#### a) np.random.rand\n",
    "The numpy.random.rand() function creates an array of specified shape and fills it with random values."
   ]
  },
  {
   "cell_type": "code",
   "execution_count": 80,
   "id": "5f41cba3-63c8-42cb-a81b-663eb82c5421",
   "metadata": {},
   "outputs": [
    {
     "data": {
      "text/plain": [
       "array([[0.44225206, 0.69816248, 0.00365241, 0.43780562, 0.16941455],\n",
       "       [0.10850146, 0.12933522, 0.71458832, 0.32820296, 0.71280448],\n",
       "       [0.26132612, 0.33576701, 0.25394639, 0.09486627, 0.32482022],\n",
       "       [0.13441963, 0.21116747, 0.56986818, 0.30452214, 0.69388767],\n",
       "       [0.1319101 , 0.67313908, 0.16432665, 0.61369024, 0.59221473]])"
      ]
     },
     "execution_count": 80,
     "metadata": {},
     "output_type": "execute_result"
    }
   ],
   "source": [
    "np.random.rand(5,5)"
   ]
  },
  {
   "cell_type": "markdown",
   "id": "ac69a7e6-01df-4b8f-b8ae-4f9d91582b83",
   "metadata": {},
   "source": [
    "#### b) np.random.randint\n",
    "numpy.random.randint() is one of the function for doing random sampling in numpy. It returns an array of specified shape and fills it with random integers from low (inclusive) to high (exclusive), i.e. in the interval [low, high)."
   ]
  },
  {
   "cell_type": "code",
   "execution_count": 86,
   "id": "1c48fb67-dee5-4050-a222-8f7247b28c68",
   "metadata": {},
   "outputs": [
    {
     "data": {
      "text/plain": [
       "array([9, 5, 4, 3, 5, 7, 1, 5, 9, 2])"
      ]
     },
     "execution_count": 86,
     "metadata": {},
     "output_type": "execute_result"
    }
   ],
   "source": [
    "np.random.randint( low = 1 , high = 10 , size = 10)"
   ]
  },
  {
   "cell_type": "markdown",
   "id": "cb8edb8a-55ad-4c20-8539-a11b0fb5cac2",
   "metadata": {},
   "source": [
    "#### c) np.random.randn\n",
    "The numpy.random.randn() function creates an array of specified shape and fills it with random values as per standard normal distribution."
   ]
  },
  {
   "cell_type": "code",
   "execution_count": 90,
   "id": "5d53a268-dcea-4147-8766-bec0beede161",
   "metadata": {},
   "outputs": [
    {
     "data": {
      "text/plain": [
       "array([ 1.11552458, -0.8216103 , -1.03873367,  0.180523  ,  1.0267266 ,\n",
       "       -0.34129468, -0.30599145, -0.82531788,  0.43561926,  1.86490655])"
      ]
     },
     "execution_count": 90,
     "metadata": {},
     "output_type": "execute_result"
    }
   ],
   "source": [
    "np.random.randn(10)"
   ]
  },
  {
   "cell_type": "markdown",
   "id": "67a6258e-4a9e-4500-807f-1fda4c4af863",
   "metadata": {},
   "source": [
    "### 12. Reshape function - will not alter the original data"
   ]
  },
  {
   "cell_type": "code",
   "execution_count": 101,
   "id": "e9d828ad-4688-4079-9e70-03e448066903",
   "metadata": {},
   "outputs": [
    {
     "name": "stdout",
     "output_type": "stream",
     "text": [
      "(3, 4)\n",
      "(4, 3)\n",
      "(6, 2)\n"
     ]
    }
   ],
   "source": [
    "arr = np.random.randint(1,15,(3,4))\n",
    "\n",
    "print(arr.shape)\n",
    "arr = arr.reshape(4,3)\n",
    "print(arr.shape)\n",
    "arr = arr.reshape(6,2)\n",
    "print(arr.shape)\n"
   ]
  },
  {
   "cell_type": "markdown",
   "id": "bb92baf5-879f-46ba-a3e8-bb6232449b93",
   "metadata": {},
   "source": [
    "### 13. Linspace  Function\n",
    "The numpy.linspace() function returns number spaces evenly w.r.t interval. Similar to numpy.arange() function but instead of step it uses sample number.\n",
    "\n",
    "Parameters :\n",
    "\n",
    "-> start : [optional] start of interval range. By default start = 0\n",
    "\n",
    "-> stop : end of interval range\n",
    "\n",
    "-> restep : If True, return (samples, step). By default restep = False\n",
    "\n",
    "-> num : [int, optional] No. of samples to generate\n",
    "\n",
    "-> dtype : type of output array"
   ]
  },
  {
   "cell_type": "code",
   "execution_count": 112,
   "id": "bcbe864a-5a95-49ad-90fd-c000abaa5f6a",
   "metadata": {},
   "outputs": [
    {
     "name": "stdout",
     "output_type": "stream",
     "text": [
      "[ 1.    3.25  5.5   7.75 10.  ]\n",
      "[ 1.  2.  3.  4.  5.  6.  7.  8.  9. 10.]\n"
     ]
    }
   ],
   "source": [
    "print(np.linspace(1, 10 , 5))\n",
    "print(np.linspace(1, 10 , 10))"
   ]
  },
  {
   "cell_type": "markdown",
   "id": "2df41f00-c8b0-45f6-b08e-db511dfde4f8",
   "metadata": {},
   "source": [
    "### 14. Flatten  Function\n",
    "ndarray.flatten() function return a copy of the array collapsed into one dimension."
   ]
  },
  {
   "cell_type": "code",
   "execution_count": 115,
   "id": "a3cf4139-35a1-4658-83a1-e93867aa25b9",
   "metadata": {},
   "outputs": [
    {
     "name": "stdout",
     "output_type": "stream",
     "text": [
      "(3, 4)\n",
      "[[ 2 12  8  6]\n",
      " [ 4  8  7 12]\n",
      " [ 4  2  2 14]]\n",
      "--------------------\n",
      "(12,)\n",
      "[ 2 12  8  6  4  8  7 12  4  2  2 14]\n"
     ]
    }
   ],
   "source": [
    "arr = np.random.randint(1,15,(3,4))\n",
    "\n",
    "print(arr.shape)\n",
    "print(arr)\n",
    "print('-'*20)\n",
    "arr = arr.flatten()\n",
    "print(arr.shape)\n",
    "print(arr)"
   ]
  },
  {
   "cell_type": "markdown",
   "id": "7b9acb52-9b51-4649-a411-010a5d81fe9f",
   "metadata": {},
   "source": [
    "### 15. Logspace  Function\n",
    "The numpy.logspace() function returns number spaces evenly w.r.t interval on a log scale.\n",
    "\n",
    "Parameters :\n",
    "\n",
    "-> start : [float] start(base ** start) of interval range.\n",
    "\n",
    "-> stop : [float] end(base ** stop) of interval range\n",
    "\n",
    "-> endpoint : [boolean, optional]If True, stop is the last sample. By default, True\n",
    "\n",
    "-> num : [int, optional] No. of samples to generate\n",
    "\n",
    "-> base : [float, optional] Base of log scale. By default, equals 10.0\n",
    "\n",
    "-> dtype : type of output array"
   ]
  },
  {
   "cell_type": "code",
   "execution_count": 120,
   "id": "7645a9b7-53b2-4a48-907f-0e9bc0e3b294",
   "metadata": {},
   "outputs": [
    {
     "name": "stdout",
     "output_type": "stream",
     "text": [
      "[  100.           166.81005372   278.25594022   464.15888336\n",
      "   774.26368268  1291.54966501  2154.43469003  3593.8136638\n",
      "  5994.84250319 10000.        ]\n",
      "------------------------------\n",
      "[ 4.          4.66611616  5.44316     6.34960421  7.4069977   8.64047791\n",
      " 10.0793684  11.75787594 13.71590373 16.        ]\n"
     ]
    }
   ],
   "source": [
    "print(np.logspace(2,4,10))\n",
    "print('-'*30)\n",
    "print(np.logspace(2,4,10 , base = 2))"
   ]
  },
  {
   "cell_type": "markdown",
   "id": "c83a7edb-bfb5-495b-a990-380a7b3605fc",
   "metadata": {},
   "source": [
    "### 16. Copy function"
   ]
  },
  {
   "cell_type": "code",
   "execution_count": 123,
   "id": "35ea3849-d1f6-4a96-820c-e81d56cc0435",
   "metadata": {},
   "outputs": [
    {
     "name": "stdout",
     "output_type": "stream",
     "text": [
      "[ 2  7  9 11 14  5 13 13  6 14] 1521850883824\n",
      "[ 2  7  9 11 14  5 13 13  6 14] 1521850883824\n",
      "--------------------------------------------------\n",
      "[ 1 12  2 13  8  5 14  8  1  1] 1521850884880\n",
      "[ 1 12  2 13  8  5 14  8  1  1] 1521848574640\n"
     ]
    }
   ],
   "source": [
    "arr1 = np.random.randint(1,15,10)\n",
    "\n",
    "arr2 = arr1\n",
    "\n",
    "print(arr1, id(arr1))\n",
    "print(arr2, id(arr2))\n",
    "\n",
    "print('-'*50)\n",
    "\n",
    "arr1 = np.random.randint(1,15,10)\n",
    "arr2 = np.copy(arr1)\n",
    "\n",
    "print(arr1, id(arr1))\n",
    "print(arr2, id(arr2))"
   ]
  },
  {
   "cell_type": "markdown",
   "id": "1e380947-98bd-46ff-8207-3fda0a1fd558",
   "metadata": {},
   "source": [
    "### 17. arr.max() ,  arr.min() ,     arr.sum() functions"
   ]
  },
  {
   "cell_type": "code",
   "execution_count": 126,
   "id": "dc02f415-f7a2-46bf-9590-ebc5c50a609f",
   "metadata": {},
   "outputs": [
    {
     "name": "stdout",
     "output_type": "stream",
     "text": [
      "--------------------\n",
      "[[ 6 15 21 25 28]\n",
      " [ 7 12 22 20 14]\n",
      " [ 7  7 11 27 17]]\n",
      "--------------------\n",
      "MAX :  28\n",
      "MIN :  6\n",
      "SUM :  239\n"
     ]
    }
   ],
   "source": [
    "arr = np.random.randint(1,30,(3,5))\n",
    "\n",
    "print('-'*20)\n",
    "print(arr)\n",
    "print('-'*20)\n",
    "\n",
    "print('MAX : ', arr.max())\n",
    "print('MIN : ', arr.min())\n",
    "print('SUM : ', arr.sum())"
   ]
  },
  {
   "cell_type": "markdown",
   "id": "1f34e1b8-c02b-4496-ad54-17310e792c36",
   "metadata": {},
   "source": [
    "#### For columns"
   ]
  },
  {
   "cell_type": "code",
   "execution_count": 136,
   "id": "87f60f60-0e20-436c-8ec1-6f0cadf57be4",
   "metadata": {},
   "outputs": [
    {
     "name": "stdout",
     "output_type": "stream",
     "text": [
      "--------------------\n",
      "[[28 27 10  4 17]\n",
      " [15 26 17  4 25]\n",
      " [12  8 13 27 15]]\n",
      "--------------------\n",
      "MAX :  [28 27 17 27 25]\n",
      "MIN :  [12  8 10  4 15]\n",
      "SUM :  [55 61 40 35 57]\n"
     ]
    }
   ],
   "source": [
    "arr = np.random.randint(1,30,(3,5))\n",
    "\n",
    "print('-'*20)\n",
    "print(arr)\n",
    "print('-'*20)\n",
    "\n",
    "print('MAX : ', arr.max(axis = 0))\n",
    "print('MIN : ', arr.min(axis = 0))\n",
    "print('SUM : ', arr.sum(axis = 0))"
   ]
  },
  {
   "cell_type": "markdown",
   "id": "7dc9ee66-2ac8-4875-be61-83a4de4a1951",
   "metadata": {},
   "source": [
    "#### For rows"
   ]
  },
  {
   "cell_type": "code",
   "execution_count": 134,
   "id": "3ec15b09-22e3-42eb-a35a-7390d23b936f",
   "metadata": {},
   "outputs": [
    {
     "name": "stdout",
     "output_type": "stream",
     "text": [
      "--------------------\n",
      "[[25  8 26 15  9]\n",
      " [ 8  6 16 22 18]\n",
      " [15 21 25 20 13]]\n",
      "--------------------\n",
      "MAX :  [26 22 25]\n",
      "MIN :  [ 8  6 13]\n",
      "SUM :  [83 70 94]\n"
     ]
    }
   ],
   "source": [
    "arr = np.random.randint(1,30,(3,5))\n",
    "\n",
    "print('-'*20)\n",
    "print(arr)\n",
    "print('-'*20)\n",
    "\n",
    "print('MAX : ', arr.max(axis = 1))\n",
    "print('MIN : ', arr.min(axis = 1))\n",
    "print('SUM : ', arr.sum(axis = 1))"
   ]
  },
  {
   "cell_type": "markdown",
   "id": "e7cd5c5c-ff55-4619-9474-e532d0847b3e",
   "metadata": {},
   "source": [
    "### 18. Seed Function"
   ]
  },
  {
   "cell_type": "code",
   "execution_count": 145,
   "id": "55490067-4d5d-4fc8-a770-3f04b80a37d1",
   "metadata": {},
   "outputs": [
    {
     "data": {
      "text/plain": [
       "array([[9, 4, 9, 9],\n",
       "       [1, 6, 4, 6],\n",
       "       [8, 7, 1, 5]])"
      ]
     },
     "execution_count": 145,
     "metadata": {},
     "output_type": "execute_result"
    }
   ],
   "source": [
    "np.random.seed(3)\n",
    "\n",
    "arr = np.random.randint(1, 10 , (3,4))\n",
    "arr"
   ]
  },
  {
   "cell_type": "markdown",
   "id": "d90e4acb-a1c8-4f8d-9e59-0d45370b2f43",
   "metadata": {},
   "source": [
    "### 19. Sorting Function"
   ]
  },
  {
   "cell_type": "code",
   "execution_count": 152,
   "id": "4593d117-4ebf-4d6f-9502-6bdbf9f9ddd8",
   "metadata": {},
   "outputs": [
    {
     "name": "stdout",
     "output_type": "stream",
     "text": [
      "---------------\n",
      "[[9 4 9 9 1]\n",
      " [6 4 6 8 7]\n",
      " [1 5 8 9 2]]\n",
      "---------------\n",
      "[[1 4 9 9 9]\n",
      " [4 6 6 7 8]\n",
      " [1 2 5 8 9]]\n",
      "---------------\n",
      "[[1 4 6 8 1]\n",
      " [6 4 8 9 2]\n",
      " [9 5 9 9 7]]\n",
      "---------------\n",
      "[[1 1 2 4 4]\n",
      " [5 6 6 7 8]\n",
      " [8 9 9 9 9]]\n",
      "---------------\n"
     ]
    }
   ],
   "source": [
    "np.random.seed(3)\n",
    "arr = np.random.randint(1,10,(3,5))\n",
    "\n",
    "\n",
    "print('-'*15)\n",
    "print(arr)\n",
    "print('-'*15)\n",
    "print(np.sort(arr, axis = 1))\n",
    "print('-'*15)\n",
    "print(np.sort(arr, axis = 0))\n",
    "print('-'*15)\n",
    "\n",
    "arr = np.reshape(np.sort(arr.flatten()), arr.shape)\n",
    "print(arr)\n",
    "print('-'*15)"
   ]
  },
  {
   "cell_type": "markdown",
   "id": "ea7c3a15-8dd5-4662-966a-784dbc18310f",
   "metadata": {},
   "source": [
    "### 20. Mathematical Operations"
   ]
  },
  {
   "cell_type": "markdown",
   "id": "c6b704b3-93ec-4b5a-9e4c-0177f63b87f4",
   "metadata": {},
   "source": [
    "#### a) Addition"
   ]
  },
  {
   "cell_type": "code",
   "execution_count": 156,
   "id": "d04e8dc6-4f7b-483a-a262-6516326df456",
   "metadata": {},
   "outputs": [
    {
     "name": "stdout",
     "output_type": "stream",
     "text": [
      "---------------\n",
      "[[9 4 9 9 1]\n",
      " [6 4 6 8 7]\n",
      " [1 5 8 9 2]]\n",
      "---------------\n",
      "[[10  5 10 10  2]\n",
      " [ 7  5  7  9  8]\n",
      " [ 2  6  9 10  3]]\n",
      "---------------\n"
     ]
    }
   ],
   "source": [
    "np.random.seed(3)\n",
    "\n",
    "arr = np.random.randint(1,10,(3,5))\n",
    "\n",
    "print('-' * 15)\n",
    "print(arr)\n",
    "print('-' * 15)\n",
    "print(arr + 1)\n",
    "print('-' * 15)"
   ]
  },
  {
   "cell_type": "markdown",
   "id": "d1106964-4ed3-44a7-9480-8f049d17b352",
   "metadata": {},
   "source": [
    "#### b) Substraction"
   ]
  },
  {
   "cell_type": "code",
   "execution_count": 159,
   "id": "498e1c7b-05f3-4ea7-8ab2-86e26acab66c",
   "metadata": {},
   "outputs": [
    {
     "name": "stdout",
     "output_type": "stream",
     "text": [
      "---------------\n",
      "[[9 4 9 9 1]\n",
      " [6 4 6 8 7]\n",
      " [1 5 8 9 2]]\n",
      "---------------\n",
      "[[8 3 8 8 0]\n",
      " [5 3 5 7 6]\n",
      " [0 4 7 8 1]]\n",
      "---------------\n"
     ]
    }
   ],
   "source": [
    "print('-' * 15)\n",
    "print(arr)\n",
    "print('-' * 15)\n",
    "print(arr - 1)\n",
    "print('-' * 15)"
   ]
  },
  {
   "cell_type": "markdown",
   "id": "53234967-3c78-47ca-a1af-6853811ad30c",
   "metadata": {},
   "source": [
    "#### c) Multiplication"
   ]
  },
  {
   "cell_type": "code",
   "execution_count": 162,
   "id": "d4189ce0-e7e0-429b-adbb-d798f146584f",
   "metadata": {},
   "outputs": [
    {
     "name": "stdout",
     "output_type": "stream",
     "text": [
      "---------------\n",
      "[[9 4 9 9 1]\n",
      " [6 4 6 8 7]\n",
      " [1 5 8 9 2]]\n",
      "---------------\n",
      "[[18  8 18 18  2]\n",
      " [12  8 12 16 14]\n",
      " [ 2 10 16 18  4]]\n",
      "---------------\n"
     ]
    }
   ],
   "source": [
    "print('-' * 15)\n",
    "print(arr)\n",
    "print('-' * 15)\n",
    "print(arr * 2)\n",
    "print('-' * 15)"
   ]
  },
  {
   "cell_type": "markdown",
   "id": "6fa226a4-001f-4ba8-8101-cf16b5e12b2f",
   "metadata": {},
   "source": [
    "#### d) Division"
   ]
  },
  {
   "cell_type": "code",
   "execution_count": 165,
   "id": "5514d7fd-4617-4392-ac97-88cac812d0e1",
   "metadata": {},
   "outputs": [
    {
     "name": "stdout",
     "output_type": "stream",
     "text": [
      "---------------\n",
      "[[9 4 9 9 1]\n",
      " [6 4 6 8 7]\n",
      " [1 5 8 9 2]]\n",
      "---------------\n",
      "[[4.5 2.  4.5 4.5 0.5]\n",
      " [3.  2.  3.  4.  3.5]\n",
      " [0.5 2.5 4.  4.5 1. ]]\n",
      "---------------\n"
     ]
    }
   ],
   "source": [
    "print('-' * 15)\n",
    "print(arr)\n",
    "print('-' * 15)\n",
    "print(arr / 2)\n",
    "print('-' * 15)"
   ]
  },
  {
   "cell_type": "markdown",
   "id": "4757384b-82d7-4252-b9f8-b07b675a4acb",
   "metadata": {},
   "source": [
    "#### e) Matrix Multiplication"
   ]
  },
  {
   "cell_type": "code",
   "execution_count": 170,
   "id": "dbf961a7-daf6-48ec-bdca-469f6be0188b",
   "metadata": {},
   "outputs": [
    {
     "name": "stdout",
     "output_type": "stream",
     "text": [
      "[[9 4]\n",
      " [9 9]]\n",
      "------------\n",
      "[[1 6]\n",
      " [4 6]]\n",
      "------------\n",
      "[[ 25  78]\n",
      " [ 45 108]]\n",
      "------------\n",
      "[[ 25  78]\n",
      " [ 45 108]]\n"
     ]
    }
   ],
   "source": [
    "np.random.seed(3)\n",
    "\n",
    "arr1 = np.random.randint(1,10,(2,2))\n",
    "arr2 = np.random.randint(1,10,(2,2))\n",
    "print(arr1)\n",
    "print('-'*12)\n",
    "print(arr2)\n",
    "print('-'*12)\n",
    "print(arr1.dot(arr2))\n",
    "print('-'*12)\n",
    "print(arr1@arr2)"
   ]
  },
  {
   "cell_type": "markdown",
   "id": "d937ac7e-9a8c-436e-afbf-b1759bb4c1f9",
   "metadata": {},
   "source": [
    "#### f) Power"
   ]
  },
  {
   "cell_type": "code",
   "execution_count": 173,
   "id": "ae2dee1d-f47a-46e8-94e7-8798d717cb2c",
   "metadata": {},
   "outputs": [
    {
     "name": "stdout",
     "output_type": "stream",
     "text": [
      "[[9 4 9 9 1]\n",
      " [6 4 6 8 7]\n",
      " [1 5 8 9 2]]\n",
      "______________________________\n",
      "[[81 16 81 81  1]\n",
      " [36 16 36 64 49]\n",
      " [ 1 25 64 81  4]]\n"
     ]
    }
   ],
   "source": [
    "print(arr)\n",
    "print('_'*30)\n",
    "print(arr ** 2)"
   ]
  },
  {
   "cell_type": "markdown",
   "id": "cdbef2f7-6d74-47ee-b2d8-b24666575077",
   "metadata": {},
   "source": [
    "### 21. Percentile Function"
   ]
  },
  {
   "cell_type": "code",
   "execution_count": 176,
   "id": "2a74f109-c420-4f93-99af-cdc631fae6aa",
   "metadata": {},
   "outputs": [
    {
     "name": "stdout",
     "output_type": "stream",
     "text": [
      "[9 4 9 9 1 6 4 6 8 7]\n",
      "[1 4 4 6 6 7 8 9 9 9]\n",
      "6.5\n"
     ]
    }
   ],
   "source": [
    "np.random.seed(3)\n",
    "\n",
    "arr = np.random.randint(1,10,10)\n",
    "print(arr)\n",
    "\n",
    "arr = np.sort(arr)\n",
    "print(arr)\n",
    "\n",
    "print(np.percentile(arr, 50))"
   ]
  },
  {
   "cell_type": "markdown",
   "id": "4aa1809a-92ba-4ffb-a59e-a1368708880f",
   "metadata": {},
   "source": [
    "### 22. Mean, Variance and Standard deviation"
   ]
  },
  {
   "cell_type": "code",
   "execution_count": 181,
   "id": "e7b22438-ca03-4375-bfe9-9dcdf5cbdd01",
   "metadata": {},
   "outputs": [
    {
     "name": "stdout",
     "output_type": "stream",
     "text": [
      "[6 9 2 9 8 9 2 1 6 5]\n",
      "Mean                : 5.7\n",
      "Variance            : 8.809999999999999\n",
      "Standard Deviation  : 2.9681644159311658\n"
     ]
    }
   ],
   "source": [
    "arr = np.random.randint(1,10,10)\n",
    "\n",
    "print(arr)\n",
    "print('Mean                :' , arr.mean())\n",
    "print('Variance            :' , arr.var())\n",
    "print('Standard Deviation  :' , arr.std())"
   ]
  },
  {
   "cell_type": "markdown",
   "id": "28901fe8-b75e-415e-ac96-c6dfd48ef6c9",
   "metadata": {},
   "source": [
    "### 23. Filtering an numpy array"
   ]
  },
  {
   "cell_type": "code",
   "execution_count": 184,
   "id": "9fe9a399-c6c0-400f-acd4-7bc0c7e0d8d0",
   "metadata": {},
   "outputs": [
    {
     "name": "stdout",
     "output_type": "stream",
     "text": [
      "[1 2 3 4 5 6 7 8 9]\n",
      "[ True  True  True  True False False False False False]\n",
      "[1 2 3 4]\n"
     ]
    }
   ],
   "source": [
    "arr = np.arange(1,10)\n",
    "\n",
    "print(arr)\n",
    "print(arr < 5)\n",
    "print(arr[arr < 5])"
   ]
  },
  {
   "cell_type": "markdown",
   "id": "8cc3bb23-c5d0-41c4-ba44-80c19f209860",
   "metadata": {},
   "source": [
    "We can store this into a new variable if we need this filtered array"
   ]
  },
  {
   "cell_type": "code",
   "execution_count": 189,
   "id": "a38a9fdf-7a9a-41d4-8412-9c0f3361edce",
   "metadata": {},
   "outputs": [
    {
     "name": "stdout",
     "output_type": "stream",
     "text": [
      "[1 2 3 4]\n"
     ]
    }
   ],
   "source": [
    "arr2 = arr[arr < 5] \n",
    "print(arr2)"
   ]
  },
  {
   "cell_type": "markdown",
   "id": "2fc45094-9ad9-4015-bb8b-cf03773c36e8",
   "metadata": {},
   "source": [
    "If we want to replace all the values above 5 with 10 we can even do that"
   ]
  },
  {
   "cell_type": "code",
   "execution_count": 192,
   "id": "e39367d7-ef68-4900-a720-b01e72aff3d2",
   "metadata": {},
   "outputs": [
    {
     "data": {
      "text/plain": [
       "array([ 1,  2,  3,  4,  5, 10, 10, 10, 10])"
      ]
     },
     "execution_count": 192,
     "metadata": {},
     "output_type": "execute_result"
    }
   ],
   "source": [
    "arr[arr > 5] = 10\n",
    "\n",
    "arr"
   ]
  },
  {
   "cell_type": "markdown",
   "id": "30a78d0f-df86-4554-ac20-a9190905314f",
   "metadata": {},
   "source": [
    "### 24 Transposing an array"
   ]
  },
  {
   "cell_type": "code",
   "execution_count": 195,
   "id": "889175ad-0f8b-407a-a21b-33adf5185867",
   "metadata": {},
   "outputs": [
    {
     "name": "stdout",
     "output_type": "stream",
     "text": [
      "[[18 15  1  1 10]\n",
      " [19  6  8  6 15]\n",
      " [ 2 18  2 11 12]]\n",
      "--------------------\n",
      "[[18 19  2]\n",
      " [15  6 18]\n",
      " [ 1  8  2]\n",
      " [ 1  6 11]\n",
      " [10 15 12]]\n"
     ]
    }
   ],
   "source": [
    "arr = np.random.randint(1,20,(3,5))\n",
    "\n",
    "print(arr)\n",
    "print('-'*20)\n",
    "print(arr.T)"
   ]
  },
  {
   "cell_type": "markdown",
   "id": "6c53c3af-f2c3-4ca0-bbbe-a461aebdd910",
   "metadata": {},
   "source": [
    "### 25. Where function "
   ]
  },
  {
   "cell_type": "code",
   "execution_count": 200,
   "id": "0ae875aa-2192-4a97-8d61-172fb11e30ad",
   "metadata": {},
   "outputs": [
    {
     "data": {
      "text/plain": [
       "array([14, 38, 31, 49, 62, 34, 53,  3, 29, 37])"
      ]
     },
     "execution_count": 200,
     "metadata": {},
     "output_type": "execute_result"
    }
   ],
   "source": [
    "arr = np.random.randint(1,100,10)\n",
    "arr"
   ]
  },
  {
   "cell_type": "code",
   "execution_count": 202,
   "id": "7dc61916-65bc-4b3d-9267-5380b765717c",
   "metadata": {},
   "outputs": [
    {
     "name": "stdout",
     "output_type": "stream",
     "text": [
      "[14 38 31 49 62 34 53  3 29 37]\n",
      "['even' 'even' '31' '49' 'even' 'even' '53' '3' '29' '37']\n",
      "['14' '38' 'odd' 'odd' '62' '34' 'odd' 'odd' 'odd' 'odd']\n",
      "['even' 'even' 'odd' 'odd' 'even' 'even' 'odd' 'odd' 'odd' 'odd']\n"
     ]
    }
   ],
   "source": [
    "print(arr)\n",
    "\n",
    "print(np.where(arr%2==0, 'even',arr))\n",
    "print(np.where(arr%2!=0, 'odd',arr))\n",
    "\n",
    "arr1 = np.where(arr%2==0, 'even',arr)\n",
    "arr1 = np.where(arr%2!=0, 'odd',arr1)\n",
    "\n",
    "print(arr1)"
   ]
  },
  {
   "cell_type": "markdown",
   "id": "0281ae3c-d6b5-4537-8403-ebb626ee5885",
   "metadata": {},
   "source": [
    "### 26. Merging Arrays"
   ]
  },
  {
   "cell_type": "markdown",
   "id": "b375701b-165a-4b1f-867b-205da3bdf75c",
   "metadata": {},
   "source": [
    "#### a) Concatenate"
   ]
  },
  {
   "cell_type": "code",
   "execution_count": 206,
   "id": "314bcfca-61db-48b1-a5cd-5662914404f4",
   "metadata": {},
   "outputs": [
    {
     "name": "stdout",
     "output_type": "stream",
     "text": [
      "[[9 1 7 1]\n",
      " [5 2 6 2]]\n",
      "---------------\n",
      "[[9 9 8 1]\n",
      " [1 2 8 9]]\n",
      "------------------------------\n",
      "[[9 1 7 1]\n",
      " [5 2 6 2]\n",
      " [9 9 8 1]\n",
      " [1 2 8 9]]\n",
      "------------------------------\n",
      "[[9 1 7 1 9 9 8 1]\n",
      " [5 2 6 2 1 2 8 9]]\n"
     ]
    }
   ],
   "source": [
    "arr1 = np.random.randint(1,10,(2,4))\n",
    "arr2 = np.random.randint(1,10,(2,4))\n",
    "\n",
    "print(arr1)\n",
    "print('-'*15)\n",
    "print(arr2)\n",
    "\n",
    "print('-'*30)\n",
    "print(np.concatenate((arr1,arr2), axis = 0))\n",
    "print('-'*30)\n",
    "print(np.concatenate((arr1,arr2), axis = 1))"
   ]
  },
  {
   "cell_type": "markdown",
   "id": "7aa8d0d8-d7b7-46e5-8a50-898cbdedf66f",
   "metadata": {},
   "source": [
    "#### b) Vstack and Hstack"
   ]
  },
  {
   "cell_type": "code",
   "execution_count": 211,
   "id": "905a84ea-54ce-4a1e-a596-8cc6e579bf10",
   "metadata": {},
   "outputs": [
    {
     "name": "stdout",
     "output_type": "stream",
     "text": [
      "[[3 3 8 4]\n",
      " [5 2 7 8]]\n",
      "---------------\n",
      "[[2 1 1 6]\n",
      " [9 5 9 9]]\n",
      "---------------\n",
      "[[3 3 8 4 2 1 1 6]\n",
      " [5 2 7 8 9 5 9 9]]\n"
     ]
    }
   ],
   "source": [
    "# hstack\n",
    "arr1 = np.random.randint(1,10,(2,4))\n",
    "arr2 = np.random.randint(1,10,(2,4))\n",
    "\n",
    "print(arr1)\n",
    "print('-'*15)\n",
    "print(arr2)\n",
    "print('-'*15)\n",
    "\n",
    "print(np.hstack((arr1,arr2)))"
   ]
  },
  {
   "cell_type": "code",
   "execution_count": 213,
   "id": "6d30c9a1-47ca-4360-857c-eec87e889579",
   "metadata": {},
   "outputs": [
    {
     "name": "stdout",
     "output_type": "stream",
     "text": [
      "[[3 3 8 4]\n",
      " [5 2 7 8]]\n",
      "---------------\n",
      "[[2 1 1 6]\n",
      " [9 5 9 9]]\n",
      "---------------\n",
      "[[3 3 8 4]\n",
      " [5 2 7 8]\n",
      " [2 1 1 6]\n",
      " [9 5 9 9]]\n"
     ]
    }
   ],
   "source": [
    "#vstack\n",
    "print(arr1)\n",
    "print('-'*15)\n",
    "print(arr2)\n",
    "print('-'*15)\n",
    "\n",
    "print(np.vstack((arr1,arr2)))"
   ]
  },
  {
   "cell_type": "markdown",
   "id": "93d30fe7-2d86-4cec-8391-13eae210b803",
   "metadata": {},
   "source": [
    "### 27. Splitting Arrays"
   ]
  },
  {
   "cell_type": "code",
   "execution_count": 216,
   "id": "1d9dd433-21ff-4070-a447-7a0dd0b4f3b4",
   "metadata": {},
   "outputs": [
    {
     "name": "stdout",
     "output_type": "stream",
     "text": [
      "[[4 5 3 6]\n",
      " [5 8 2 1]\n",
      " [8 5 9 9]\n",
      " [5 2 5 1]]\n"
     ]
    }
   ],
   "source": [
    "arr = np.random.randint(1,10,(4,4))\n",
    "\n",
    "print(arr)"
   ]
  },
  {
   "cell_type": "code",
   "execution_count": 218,
   "id": "ef60d7f2-83c8-4c4c-a8c9-803891eb0954",
   "metadata": {},
   "outputs": [
    {
     "data": {
      "text/plain": [
       "[array([[4, 5, 3, 6],\n",
       "        [5, 8, 2, 1]]),\n",
       " array([[8, 5, 9, 9],\n",
       "        [5, 2, 5, 1]])]"
      ]
     },
     "execution_count": 218,
     "metadata": {},
     "output_type": "execute_result"
    }
   ],
   "source": [
    "#vertically (row-wise)\n",
    "np.vsplit(arr, 2)"
   ]
  },
  {
   "cell_type": "code",
   "execution_count": 220,
   "id": "61f51061-ec4e-42e0-ba1e-17ecece8c2e4",
   "metadata": {},
   "outputs": [
    {
     "data": {
      "text/plain": [
       "[array([[4, 5],\n",
       "        [5, 8],\n",
       "        [8, 5],\n",
       "        [5, 2]]),\n",
       " array([[3, 6],\n",
       "        [2, 1],\n",
       "        [9, 9],\n",
       "        [5, 1]])]"
      ]
     },
     "execution_count": 220,
     "metadata": {},
     "output_type": "execute_result"
    }
   ],
   "source": [
    "#horizontally (column-wise)\n",
    "np.hsplit(arr, 2)"
   ]
  },
  {
   "cell_type": "code",
   "execution_count": null,
   "id": "346420ab-98ef-41ff-9f3a-77da279f3d6d",
   "metadata": {},
   "outputs": [],
   "source": []
  }
 ],
 "metadata": {
  "kernelspec": {
   "display_name": "Python [conda env:base] *",
   "language": "python",
   "name": "conda-base-py"
  },
  "language_info": {
   "codemirror_mode": {
    "name": "ipython",
    "version": 3
   },
   "file_extension": ".py",
   "mimetype": "text/x-python",
   "name": "python",
   "nbconvert_exporter": "python",
   "pygments_lexer": "ipython3",
   "version": "3.12.7"
  }
 },
 "nbformat": 4,
 "nbformat_minor": 5
}
