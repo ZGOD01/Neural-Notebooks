{
 "cells": [
  {
   "cell_type": "markdown",
   "id": "d73801a9-891f-4799-b999-91d0d85b0c97",
   "metadata": {},
   "source": [
    "### Product\n",
    "1. Product ID\n",
    "2. Name of Product\n",
    "3. Price of Product\n",
    "4. Quantity\n"
   ]
  },
  {
   "cell_type": "code",
   "execution_count": 8,
   "id": "8b430650-858e-4f01-bc26-5ef3ab86777d",
   "metadata": {},
   "outputs": [
    {
     "name": "stdin",
     "output_type": "stream",
     "text": [
      "Enter your Name :  om\n",
      "Enter your Phone No. :  12312\n",
      "Enter your Email ID :  @.com\n",
      "Enter the Product ID :  2\n",
      "Enter the Product Quantity :  200\n"
     ]
    },
    {
     "name": "stdout",
     "output_type": "stream",
     "text": [
      "Sorry, We're not having enough Quantity..!\n",
      "We're having only 100 quantity.\n",
      "Would you like to purchase it..?\n"
     ]
    },
    {
     "name": "stdin",
     "output_type": "stream",
     "text": [
      "Press Y/N :  y\n"
     ]
    },
    {
     "name": "stdout",
     "output_type": "stream",
     "text": [
      "------------------------------------------\n",
      "Product Name         :  Milky Bar\n",
      "Price of Product     :  5\n",
      "Quantity             :  100\n",
      "------------------------------------------\n",
      "Billing Amount       :  500\n",
      "------------------------------------------\n",
      "Inventory Updated..!\n"
     ]
    }
   ],
   "source": [
    "# Noting the time of Transaction\n",
    "import time\n",
    "\n",
    "# Reading the Inventory\n",
    "file = open(\"Inventory.txt\", \"r\")\n",
    "products = file.read().split('\\n')\n",
    "file.close()\n",
    "\n",
    "# Taking User Input\n",
    "User_Username = input(\"Enter your Name : \")\n",
    "User_Phone = input(\"Enter your Phone No. : \")\n",
    "User_Email = input(\"Enter your Email ID : \")\n",
    "Product_ID       = input(\"Enter the Product ID : \")\n",
    "User_Quantity = input(\"Enter the Product Quantity : \")\n",
    "\n",
    "updated_Product_lst = []\n",
    "\n",
    "# Going through each Product Detail\n",
    "for product in products:\n",
    "    product_data = product.split(\",\")\n",
    "\n",
    "    # Checking if Product exists or not\n",
    "    if (product_data[0] == Product_ID):\n",
    "\n",
    "        # If we're having enough quantity\n",
    "        if (int(User_Quantity) <= int(product_data[3])):\n",
    "        \n",
    "            print(\"------------------------------------------\")\n",
    "            print(\"Product Name         : \", product_data[1])\n",
    "            print(\"Price of Product     : \", product_data[2])\n",
    "            print(\"Quantity             : \", User_Quantity)\n",
    "            print(\"------------------------------------------\")\n",
    "            billing_amount = int(User_Quantity) * int(product_data[2])\n",
    "            print(\"Billing Amount   : \", billing_amount)\n",
    "            print(\"------------------------------------------\")\n",
    "\n",
    "            # Updating Inventory List\n",
    "            product_data[3] = str(int(product_data[3]) - int(User_Quantity))\n",
    "\n",
    "            # Generating Sales in Sales.txt\n",
    "            file = open(\"Sales.txt\",'a')\n",
    "            sales_details = User_Username + \",\" + User_Phone + \",\" + User_Email + \",\" + product_data[1] + \",\" +  Product_ID + \",\" + User_Quantity + \",\" + str(billing_amount) + \",\" + time.ctime() + '\\n'\n",
    "            file.write(sales_details)\n",
    "            file.close()\n",
    "            \n",
    "        else:\n",
    "            # If we're not having enough quantity\n",
    "            \n",
    "            print(\"Sorry, We're not having enough Quantity..!\")\n",
    "            print(\"We're having only\",product_data[3],\"quantity.\")\n",
    "            print(\"Would you like to purchase it..?\")\n",
    "\n",
    "            ch = input(\"Press Y/N : \")\n",
    "            # If you want to purachase with remaining quantity\n",
    "\n",
    "            if (ch == 'Y' or ch == 'y'):\n",
    "                print(\"------------------------------------------\")\n",
    "                print(\"Product Name         : \", product_data[1])\n",
    "                print(\"Price of Product     : \", product_data[2])\n",
    "                print(\"Quantity             : \", product_data[3])\n",
    "                print(\"------------------------------------------\")\n",
    "                print(\"Billing Amount       : \", int(product_data[3]) * int(product_data[2]))\n",
    "                print(\"------------------------------------------\")\n",
    "\n",
    "                \n",
    "                # Generating Sales in Sales.txt\n",
    "                file = open(\"Sales.txt\",'a')\n",
    "                sales_details = User_Username + \",\" + User_Phone + \",\" + User_Email + \",\" + product_data[1] + \",\" +  Product_ID + \",\" + product_data[3] + \",\" + str(int(product_data[3]) * int(product_data[2])) + \",\" + time.ctime() + '\\n'\n",
    "                file.write(sales_details)\n",
    "                file.close()\n",
    "\n",
    "                # Updating Inventory List\n",
    "                product_data[3] = '0'\n",
    "\n",
    "            else:\n",
    "                print(\"Thanks...!\")\n",
    "    \n",
    "                \n",
    "    # Updating my Inventory List\n",
    "    updated_Product_lst.append(product_data)\n",
    "\n",
    "lst = []\n",
    "\n",
    "# Updating my Inventory String \n",
    "for i in updated_Product_lst:\n",
    "    prod = i[0] + \",\" + i[1] + \",\" + i[2] + \",\" + i[3] + \"\\n\"\n",
    "    lst.append(prod)\n",
    "\n",
    "# Removing the last \\n from the list\n",
    "lst[-1] = lst[-1][:-1]\n",
    "\n",
    "# Updating my Inventory file \n",
    "file = open(\"Inventory.txt\", 'w')\n",
    "\n",
    "for i in lst:\n",
    "    file.write(i)\n",
    "\n",
    "file.close()\n",
    "\n",
    "print(\"Inventory Updated..!\")\n"
   ]
  },
  {
   "cell_type": "code",
   "execution_count": null,
   "id": "e1d60464-52f5-443b-9942-b262d414378a",
   "metadata": {},
   "outputs": [],
   "source": []
  }
 ],
 "metadata": {
  "kernelspec": {
   "display_name": "Python [conda env:base] *",
   "language": "python",
   "name": "conda-base-py"
  },
  "language_info": {
   "codemirror_mode": {
    "name": "ipython",
    "version": 3
   },
   "file_extension": ".py",
   "mimetype": "text/x-python",
   "name": "python",
   "nbconvert_exporter": "python",
   "pygments_lexer": "ipython3",
   "version": "3.12.7"
  }
 },
 "nbformat": 4,
 "nbformat_minor": 5
}
