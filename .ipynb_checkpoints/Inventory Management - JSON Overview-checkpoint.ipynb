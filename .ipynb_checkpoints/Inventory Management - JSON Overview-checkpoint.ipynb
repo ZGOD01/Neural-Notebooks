{
 "cells": [
  {
   "cell_type": "code",
   "execution_count": 59,
   "id": "136350ee-8759-4fc7-8fbe-329f9537e61f",
   "metadata": {},
   "outputs": [
    {
     "name": "stdout",
     "output_type": "stream",
     "text": [
      "-----------------MENU---------------------\n",
      "\n",
      "1001  :  5 Star \t|  10 \t|  23\n",
      "1002  :  Bar-One \t|  20 \t|  20\n",
      "1003  :  Candy \t|  2 \t|  100\n",
      "1004  :  Chocolate Cake \t|  550 \t|  10\n",
      "1005  :  Blueberry Cake \t|  650 \t|  20\n",
      "-----------------------------------------\n",
      "\n"
     ]
    },
    {
     "name": "stdin",
     "output_type": "stream",
     "text": [
      "Enter your name      :  zgod\n",
      "Enter your Email ID  :  zgod@\n",
      "Enter your Phone No. :  123123112\n",
      "Enter product ID     :  1002\n",
      "Enter Quantity       :  5\n"
     ]
    },
    {
     "name": "stdout",
     "output_type": "stream",
     "text": [
      "------------------------------------------\n",
      "                 Bill                     \n",
      "\n",
      "Name               :  Bar-One\n",
      "Price              :  20 Rs\n",
      "Quantity           :  5\n",
      "-----------------------------------------\n",
      "Billing Amount     :  100 Rs\n",
      "-----------------------------------------\n",
      "--------------------------------------------------\n",
      "  Thanks for your order , Inventory Updated!  \n",
      "--------------------------------------------------\n"
     ]
    }
   ],
   "source": [
    "# Importing Libraries\n",
    "import json\n",
    "import time\n",
    "\n",
    "# Loading the inventory records from JSON to String\n",
    "file = open(\"Records.json\", \"r\")\n",
    "js = file.read()\n",
    "file.close()\n",
    "\n",
    "# Initialising Variables\n",
    "sale = ''\n",
    "\n",
    "# Convert String Records to JSON | Dictionary\n",
    "record = json.loads(js)\n",
    "\n",
    "\n",
    "# Displaying the menu \n",
    "print(\"-----------------MENU---------------------\\n\")\n",
    "for key in record.keys():\n",
    "    print(key , \" : \" , record[key][\"Name\"] ,\"\\t| \" , record[key][\"Price\"] , \"\\t| \" , record[key][\"Quantity\"])\n",
    "print(\"-----------------------------------------\\n\")\n",
    "\n",
    "\n",
    "# Taking the user input about the Purchase and  User Details\n",
    "User_Name        = str(input(\"Enter your name      : \"))\n",
    "User_Email       = str(input(\"Enter your Email ID  : \"))\n",
    "User_PhoneNo     = str(input(\"Enter your Phone No. : \"))\n",
    "User_ProductID   = str(input(\"Enter product ID     : \"))\n",
    "User_RequiredQn  = int(input(\"Enter Quantity       : \"))\n",
    "\n",
    "# If we're having enough quantity\n",
    "if(record[User_ProductID]['Quantity'] >= User_RequiredQn ) :\n",
    "\n",
    "    \n",
    "    # Displaying the Purchase Detail\n",
    "    print(\"------------------------------------------\")\n",
    "    print(\"                 Bill                     \\n\")\n",
    "    print(\"Name               : \" , record[User_ProductID][\"Name\"])\n",
    "    print(\"Price              : \" , record[User_ProductID][\"Price\"],\"Rs\")\n",
    "    print(\"Quantity           : \" , User_RequiredQn)\n",
    "    print(\"-----------------------------------------\")\n",
    "    print(\"Billing Amount     : \" , record[User_ProductID][\"Price\"] * User_RequiredQn , \"Rs\")\n",
    "    print(\"-----------------------------------------\")\n",
    "\n",
    "    # Generating Sales Structure in CSV\n",
    "    sale = User_Name + \",\" + User_Email + \",\" + User_PhoneNo + \",\" + User_ProductID + \",\" + record[User_ProductID]['Name'] + \",\" + str(record[User_ProductID]['Price']) + \",\" + str(User_RequiredQn) + \",\" + str(record[User_ProductID]['Price'] * User_RequiredQn ) + \",\" + time.ctime()  + \"\\n\"\n",
    "\n",
    "    # Updating Records Dictionary\n",
    "    record[User_ProductID]['Quantity'] -= User_RequiredQn\n",
    "    \n",
    "\n",
    "# If we're not having enough quantity\n",
    "else:\n",
    "\n",
    "    # Displaying Info about the quantity\n",
    "    print(\"Sorry, we're not having enough quantity in our Inventory.\")\n",
    "    print(\"We're only having\", record[User_ProductID]['Quantity'], \"quantity.\")\n",
    "    print(\"------------------------------------------\")\n",
    "\n",
    "    # If user wants to purchase whole Quantity for that product \n",
    "    ch = str(input(\"Press Y/y to purchase : \"))\n",
    "\n",
    "    if (ch == 'Y' or ch == 'y'):\n",
    "\n",
    "        # Displaying the Purchase Detail\n",
    "        print(\"------------------------------------------\")\n",
    "        print(\"                 Bill                     \\n\")\n",
    "        print(\"Name               : \" , record[User_ProductID][\"Name\"])\n",
    "        print(\"Price              : \" , record[User_ProductID][\"Price\"],\"Rs\")\n",
    "        print(\"Quantity           : \" , record[User_ProductID]['Quantity'])\n",
    "        print(\"-----------------------------------------\")\n",
    "        print(\"Billing Amount     : \" , record[User_ProductID][\"Price\"] * record[User_ProductID]['Quantity'] , \"Rs\")\n",
    "        print(\"-----------------------------------------\")\n",
    "\n",
    "        # Generating Sales Structure in CSV\n",
    "        sale = User_Name + \",\" + User_Email + \",\" + User_PhoneNo + \",\" + User_ProductID + \",\" + record[User_ProductID]['Name'] + \",\" + str(record[User_ProductID]['Quantity']) + \",\" + str(record[User_ProductID]['Price']) + \",\" + str(record[User_ProductID]['Quantity'] * record[User_ProductID]['Price']) + \",\" + time.ctime() + \"\\n\"  \n",
    "\n",
    "        # Updating Records Dictionary\n",
    "        record[User_ProductID]['Quantity'] = 0\n",
    "\n",
    "    # If User pressed anything other than Y/y\n",
    "    else:\n",
    "        print(\"Thank U !\")\n",
    "\n",
    "# Converting Dictionary to String \n",
    "js = json.dumps(record)\n",
    "\n",
    "# Saving Records in JSON File\n",
    "file = open(\"Records.json\", 'w')\n",
    "file.write(js)\n",
    "file.close()\n",
    "\n",
    "# Saving Records in Sales File \n",
    "file = open(\"JsonSales.csv\",'a')\n",
    "file.write(sale)\n",
    "file.close()\n",
    "\n",
    "print(\"--------------------------------------------------\")\n",
    "print(\"  Thanks for your order , Inventory Updated!  \")\n",
    "print(\"--------------------------------------------------\")"
   ]
  },
  {
   "cell_type": "code",
   "execution_count": 51,
   "id": "ed26e64c-c46a-44b6-be4f-0483a7310365",
   "metadata": {},
   "outputs": [
    {
     "data": {
      "text/plain": [
       "'1,om,zgod@,212121211,1001,5 Star,49,10,490,Fri May  2 22:12:32 2025'"
      ]
     },
     "execution_count": 51,
     "metadata": {},
     "output_type": "execute_result"
    }
   ],
   "source": [
    "sale"
   ]
  },
  {
   "cell_type": "code",
   "execution_count": null,
   "id": "b287c8d5-4313-4455-bf0c-1554716703d2",
   "metadata": {},
   "outputs": [],
   "source": []
  }
 ],
 "metadata": {
  "kernelspec": {
   "display_name": "Python [conda env:base] *",
   "language": "python",
   "name": "conda-base-py"
  },
  "language_info": {
   "codemirror_mode": {
    "name": "ipython",
    "version": 3
   },
   "file_extension": ".py",
   "mimetype": "text/x-python",
   "name": "python",
   "nbconvert_exporter": "python",
   "pygments_lexer": "ipython3",
   "version": "3.12.7"
  }
 },
 "nbformat": 4,
 "nbformat_minor": 5
}
