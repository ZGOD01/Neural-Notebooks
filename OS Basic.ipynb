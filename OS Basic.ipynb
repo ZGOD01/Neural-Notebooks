{
 "cells": [
  {
   "cell_type": "code",
   "execution_count": 2,
   "id": "23fee71b-1da9-4cbd-b37d-5000ad3300e2",
   "metadata": {},
   "outputs": [],
   "source": [
    "import os"
   ]
  },
  {
   "cell_type": "code",
   "execution_count": 4,
   "id": "ec254194-a011-487e-bec6-880f035c319a",
   "metadata": {},
   "outputs": [
    {
     "data": {
      "text/plain": [
       "'C:\\\\Users\\\\Dell-478\\\\Downloads\\\\Jupyter Notebook'"
      ]
     },
     "execution_count": 4,
     "metadata": {},
     "output_type": "execute_result"
    }
   ],
   "source": [
    "pwd"
   ]
  },
  {
   "cell_type": "code",
   "execution_count": 10,
   "id": "9c5b7826-6de3-41dc-91f7-2650fcd5b6c0",
   "metadata": {},
   "outputs": [
    {
     "name": "stdout",
     "output_type": "stream",
     "text": [
      " Volume in drive C has no label.\n",
      " Volume Serial Number is 7A4D-9233\n",
      "\n",
      " Directory of C:\\Users\\Dell-478\\Downloads\\Jupyter Notebook\n",
      "\n",
      "05/03/2025  10:34 AM    <DIR>          .\n",
      "05/03/2025  10:34 AM    <DIR>          ..\n",
      "05/03/2025  10:34 AM    <DIR>          .ipynb_checkpoints\n",
      "04/25/2025  08:47 PM             1,016 Data Reading.ipynb\n",
      "04/25/2025  08:43 PM                 4 data.txt\n",
      "05/02/2025  10:59 PM             7,647 Inventory Management - JSON Overview.ipynb\n",
      "05/02/2025  11:46 AM             6,741 Inventory Management.ipynb\n",
      "05/02/2025  11:42 AM                62 Inventory.txt\n",
      "05/02/2025  10:26 PM               132 JsonSales.csv\n",
      "05/03/2025  10:33 AM               337 OS Basic.ipynb\n",
      "05/02/2025  10:52 PM               333 Records.json\n",
      "05/02/2025  11:43 AM                59 Sales.txt\n",
      "               9 File(s)         16,331 bytes\n",
      "               3 Dir(s)  63,575,953,408 bytes free\n"
     ]
    }
   ],
   "source": [
    "ls\n"
   ]
  },
  {
   "cell_type": "code",
   "execution_count": 14,
   "id": "f59ba579-a4d1-491e-ad0d-86db0023e598",
   "metadata": {},
   "outputs": [],
   "source": [
    "os.chdir(\"..\")"
   ]
  },
  {
   "cell_type": "code",
   "execution_count": 22,
   "id": "5a6e48ab-7d53-436a-b08a-de5a1ee5d098",
   "metadata": {},
   "outputs": [
    {
     "data": {
      "text/plain": [
       "'C:\\\\Users\\\\Dell-478\\\\Downloads\\\\Jupyter Notebook'"
      ]
     },
     "execution_count": 22,
     "metadata": {},
     "output_type": "execute_result"
    }
   ],
   "source": [
    "os.getcwd()"
   ]
  },
  {
   "cell_type": "code",
   "execution_count": 20,
   "id": "76c7aa3b-f461-4cf5-9168-679f354a8de8",
   "metadata": {},
   "outputs": [],
   "source": [
    "os.chdir(\"Jupyter Notebook\")"
   ]
  },
  {
   "cell_type": "code",
   "execution_count": null,
   "id": "e4982eac-7de6-4bee-b23e-b076699833db",
   "metadata": {},
   "outputs": [],
   "source": []
  }
 ],
 "metadata": {
  "kernelspec": {
   "display_name": "Python [conda env:base] *",
   "language": "python",
   "name": "conda-base-py"
  },
  "language_info": {
   "codemirror_mode": {
    "name": "ipython",
    "version": 3
   },
   "file_extension": ".py",
   "mimetype": "text/x-python",
   "name": "python",
   "nbconvert_exporter": "python",
   "pygments_lexer": "ipython3",
   "version": "3.12.7"
  }
 },
 "nbformat": 4,
 "nbformat_minor": 5
}
